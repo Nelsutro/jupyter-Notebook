{
 "cells": [
  {
   "cell_type": "markdown",
   "metadata": {},
   "source": [
    "<center>\n",
    "    <img src=\"https://cf-courses-data.s3.us.cloud-object-storage.appdomain.cloud/IBMDeveloperSkillsNetwork-DS0105EN-SkillsNetwork/labs/Module2/images/SN_web_lightmode.png\" width=\"300\" alt=\"cognitiveclass.ai logo\">\n",
    "</center>\n"
   ]
  },
  {
   "cell_type": "markdown",
   "metadata": {},
   "source": [
    "#### Add your code below following the instructions given in the course\n"
   ]
  },
  {
   "cell_type": "markdown",
   "metadata": {},
   "source": [
    "# My Jupyter Notebook"
   ]
  },
  {
   "cell_type": "markdown",
   "metadata": {},
   "source": [
    "## Hi, this is a introduction for this notebook, here you can find the exercises for the course. Let's start."
   ]
  },
  {
   "cell_type": "markdown",
   "metadata": {},
   "source": [
    "### Programming Languages for Data Science  \n",
    "programming languages in data science:  \n",
    "\n",
    "1. **Python**\n",
    "2. **R**\n",
    "3. **SQL**\n",
    "4. **Scala** \n",
    "5. **Julia**  \n",
    "6. **Java**"
   ]
  },
  {
   "cell_type": "markdown",
   "metadata": {},
   "source": [
    "## Essential Libraries for Data Science  \n",
    "libraries in data science:  \n",
    "\n",
    "### **Data Manipulation & Analysis**  \n",
    "- **Pandas**  \n",
    "- **NumPy**  \n",
    "- **Dask**  \n",
    "\n",
    "### **Data Visualization**  \n",
    "- **Matplotlib**  \n",
    "- **Seaborn**  \n",
    "- **Plotly**  \n",
    "\n",
    "### **Machine Learning & AI**  \n",
    "- **Scikit-learn**  \n",
    "- **TensorFlow**  \n",
    "- **PyTorch**  \n",
    "\n",
    "### **Big Data & Databases**    \n",
    "- **PySpark**  \n",
    "- **Dask**  \n",
    "\n",
    "### **Natural Language Processing (NLP)**  \n",
    "- **NLTK**\n",
    "- **spaCy**  \n"
   ]
  },
  {
   "cell_type": "markdown",
   "metadata": {},
   "source": [
    "## Data Science Tools  \n",
    "\n",
    "| Category             | Tool          \n",
    "|----------------------|----------------|\n",
    "| **Big Data**        | Apache Spark|\n",
    "|                    | Hadoop|\n",
    "| **Programming**     | R| \n",
    "|                    | Python|\n",
    "| **Data Manipulation** | Pandas|\n",
    "|                    | NumPy|\n",
    "| **Data Visualization** | Matplotlib|\n",
    "|                    | Seaborn|\n",
    "|                    | Plotly|\n",
    "| **Machine Learning** | Scikit-learn|\n",
    "|                    | TensorFlow|\n",
    "|                    | PyTorch|\n",
    "| **Databases**       | SQL|\n",
    "|                    | MongoDB|\n",
    "| **Cloud Platforms** | AWS|\n",
    "|                    | Google Cloud|\n",
    "|                    | Azure|\n"
   ]
  },
  {
   "cell_type": "markdown",
   "metadata": {},
   "source": [
    "##  Arithmetic Expressions\n",
    "\n",
    "###  **Basic Operations**  \n",
    "| Operator | Description | Example | Result |\n",
    "|----------|------------|---------|--------|\n",
    "| `+` | Addition | `5 + 3` | `8` |\n",
    "| `-` | Subtraction | `10 - 4` | `6` |\n",
    "| `*` | Multiplication | `6 * 2` | `12` |\n",
    "| `/` | Division | `9 / 3` | `3.0` |\n",
    "\n",
    "###  **Advanced Operations**  \n",
    "| Operator | Description | Example | Result |\n",
    "|----------|------------|---------|--------|\n",
    "| `**` | Exponentiation | `2 ** 3` | `8` |\n",
    "| `//` | Floor Division | `10 // 3` | `3` |\n",
    "| `%` | Modulus (Remainder) | `10 % 3` | `1` |\n",
    "\n"
   ]
  },
  {
   "cell_type": "code",
   "execution_count": 12,
   "metadata": {},
   "outputs": [
    {
     "name": "stdout",
     "output_type": "stream",
     "text": [
      "addition: 12\n",
      "multiplication: 35\n"
     ]
    }
   ],
   "source": [
    "x = 5\n",
    "y = 7\n",
    "print(\"addition:\",x+y)\n",
    "print(\"multiplication:\",x*y)"
   ]
  },
  {
   "cell_type": "code",
   "execution_count": 16,
   "metadata": {},
   "outputs": [
    {
     "name": "stdin",
     "output_type": "stream",
     "text": [
      "pls enter the minutes:  65\n"
     ]
    },
    {
     "name": "stdout",
     "output_type": "stream",
     "text": [
      "you have 1 hour(s) and 5 minute(s)\n"
     ]
    }
   ],
   "source": [
    "# minutes in hours\n",
    "\n",
    "x = int(input(\"pls enter the minutes: \"))\n",
    "\n",
    "h = x // 60\n",
    "mr = x % 60\n",
    "\n",
    "print(f\"you have {h} hour(s) and {mr} minute(s)\")"
   ]
  },
  {
   "cell_type": "code",
   "execution_count": 18,
   "metadata": {},
   "outputs": [
    {
     "ename": "TypeError",
     "evalue": "list indices must be integers or slices, not str",
     "output_type": "error",
     "traceback": [
      "\u001b[0;31m---------------------------------------------------------------------------\u001b[0m",
      "\u001b[0;31mTypeError\u001b[0m                                 Traceback (most recent call last)",
      "Cell \u001b[0;32mIn[18], line 4\u001b[0m\n\u001b[1;32m      1\u001b[0m arr \u001b[38;5;241m=\u001b[39m [\u001b[38;5;124m\"\u001b[39m\u001b[38;5;124mcar\u001b[39m\u001b[38;5;124m\"\u001b[39m,\u001b[38;5;124m\"\u001b[39m\u001b[38;5;124mbicycle\u001b[39m\u001b[38;5;124m\"\u001b[39m,\u001b[38;5;124m\"\u001b[39m\u001b[38;5;124mpencil\u001b[39m\u001b[38;5;124m\"\u001b[39m,\u001b[38;5;124m\"\u001b[39m\u001b[38;5;124mbook\u001b[39m\u001b[38;5;124m\"\u001b[39m]\n\u001b[1;32m      3\u001b[0m \u001b[38;5;28;01mfor\u001b[39;00m \u001b[38;5;28mobject\u001b[39m \u001b[38;5;129;01min\u001b[39;00m arr:\n\u001b[0;32m----> 4\u001b[0m     \u001b[38;5;28mprint\u001b[39m(\u001b[43marr\u001b[49m\u001b[43m[\u001b[49m\u001b[38;5;28;43mobject\u001b[39;49m\u001b[43m]\u001b[49m)\n",
      "\u001b[0;31mTypeError\u001b[0m: list indices must be integers or slices, not str"
     ]
    }
   ],
   "source": [
    "arr = [\"car\",\"bicycle\",\"pencil\",\"book\"]\n",
    "\n",
    "for object in arr:\n",
    "    print(object)"
   ]
  },
  {
   "cell_type": "code",
   "execution_count": null,
   "metadata": {},
   "outputs": [],
   "source": []
  }
 ],
 "metadata": {
  "kernelspec": {
   "display_name": "Python 3 (ipykernel)",
   "language": "python",
   "name": "python3"
  },
  "language_info": {
   "codemirror_mode": {
    "name": "ipython",
    "version": 3
   },
   "file_extension": ".py",
   "mimetype": "text/x-python",
   "name": "python",
   "nbconvert_exporter": "python",
   "pygments_lexer": "ipython3",
   "version": "3.12.8"
  }
 },
 "nbformat": 4,
 "nbformat_minor": 4
}
